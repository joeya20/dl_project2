{
  "cells": [
    {
      "cell_type": "markdown",
      "id": "a02285e6",
      "metadata": {
        "id": "a02285e6"
      },
      "source": [
        "# Starter Notebook"
      ]
    },
    {
      "cell_type": "markdown",
      "id": "bdcc5329",
      "metadata": {
        "id": "bdcc5329"
      },
      "source": [
        "Install and import required libraries"
      ]
    },
    {
      "cell_type": "code",
      "execution_count": 1,
      "id": "348ceed6-b684-46c3-8a32-9bb640c9a9d7",
      "metadata": {
        "id": "348ceed6-b684-46c3-8a32-9bb640c9a9d7"
      },
      "outputs": [
        {
          "name": "stdout",
          "output_type": "stream",
          "text": [
            "Requirement already satisfied: transformers in ./env/lib/python3.11/site-packages (4.51.1)\n",
            "Requirement already satisfied: datasets in ./env/lib/python3.11/site-packages (3.5.0)\n",
            "Requirement already satisfied: evaluate in ./env/lib/python3.11/site-packages (0.4.3)\n",
            "Requirement already satisfied: accelerate in ./env/lib/python3.11/site-packages (1.6.0)\n",
            "Requirement already satisfied: peft in ./env/lib/python3.11/site-packages (0.15.1)\n",
            "Requirement already satisfied: trl in ./env/lib/python3.11/site-packages (0.16.1)\n",
            "Requirement already satisfied: bitsandbytes in ./env/lib/python3.11/site-packages (0.45.5)\n",
            "Requirement already satisfied: filelock in ./env/lib/python3.11/site-packages (from transformers) (3.18.0)\n",
            "Requirement already satisfied: huggingface-hub<1.0,>=0.30.0 in ./env/lib/python3.11/site-packages (from transformers) (0.30.2)\n",
            "Requirement already satisfied: numpy>=1.17 in ./env/lib/python3.11/site-packages (from transformers) (2.2.4)\n",
            "Requirement already satisfied: packaging>=20.0 in ./env/lib/python3.11/site-packages (from transformers) (24.2)\n",
            "Requirement already satisfied: pyyaml>=5.1 in ./env/lib/python3.11/site-packages (from transformers) (6.0.2)\n",
            "Requirement already satisfied: regex!=2019.12.17 in ./env/lib/python3.11/site-packages (from transformers) (2024.11.6)\n",
            "Requirement already satisfied: requests in ./env/lib/python3.11/site-packages (from transformers) (2.32.3)\n",
            "Requirement already satisfied: tokenizers<0.22,>=0.21 in ./env/lib/python3.11/site-packages (from transformers) (0.21.1)\n",
            "Requirement already satisfied: safetensors>=0.4.3 in ./env/lib/python3.11/site-packages (from transformers) (0.5.3)\n",
            "Requirement already satisfied: tqdm>=4.27 in ./env/lib/python3.11/site-packages (from transformers) (4.67.1)\n",
            "Requirement already satisfied: pyarrow>=15.0.0 in ./env/lib/python3.11/site-packages (from datasets) (19.0.1)\n",
            "Requirement already satisfied: dill<0.3.9,>=0.3.0 in ./env/lib/python3.11/site-packages (from datasets) (0.3.8)\n",
            "Requirement already satisfied: pandas in ./env/lib/python3.11/site-packages (from datasets) (2.2.3)\n",
            "Requirement already satisfied: xxhash in ./env/lib/python3.11/site-packages (from datasets) (3.5.0)\n",
            "Requirement already satisfied: multiprocess<0.70.17 in ./env/lib/python3.11/site-packages (from datasets) (0.70.16)\n",
            "Requirement already satisfied: fsspec[http]<=2024.12.0,>=2023.1.0 in ./env/lib/python3.11/site-packages (from datasets) (2024.12.0)\n",
            "Requirement already satisfied: aiohttp in ./env/lib/python3.11/site-packages (from datasets) (3.11.16)\n",
            "Requirement already satisfied: psutil in ./env/lib/python3.11/site-packages (from accelerate) (7.0.0)\n",
            "Requirement already satisfied: torch>=2.0.0 in ./env/lib/python3.11/site-packages (from accelerate) (2.6.0)\n",
            "Requirement already satisfied: rich in ./env/lib/python3.11/site-packages (from trl) (14.0.0)\n",
            "Requirement already satisfied: aiohappyeyeballs>=2.3.0 in ./env/lib/python3.11/site-packages (from aiohttp->datasets) (2.6.1)\n",
            "Requirement already satisfied: aiosignal>=1.1.2 in ./env/lib/python3.11/site-packages (from aiohttp->datasets) (1.3.2)\n",
            "Requirement already satisfied: attrs>=17.3.0 in ./env/lib/python3.11/site-packages (from aiohttp->datasets) (25.3.0)\n",
            "Requirement already satisfied: frozenlist>=1.1.1 in ./env/lib/python3.11/site-packages (from aiohttp->datasets) (1.5.0)\n",
            "Requirement already satisfied: multidict<7.0,>=4.5 in ./env/lib/python3.11/site-packages (from aiohttp->datasets) (6.2.0)\n",
            "Requirement already satisfied: propcache>=0.2.0 in ./env/lib/python3.11/site-packages (from aiohttp->datasets) (0.3.1)\n",
            "Requirement already satisfied: yarl<2.0,>=1.17.0 in ./env/lib/python3.11/site-packages (from aiohttp->datasets) (1.19.0)\n",
            "Requirement already satisfied: typing-extensions>=3.7.4.3 in ./env/lib/python3.11/site-packages (from huggingface-hub<1.0,>=0.30.0->transformers) (4.13.1)\n",
            "Requirement already satisfied: charset-normalizer<4,>=2 in ./env/lib/python3.11/site-packages (from requests->transformers) (3.4.1)\n",
            "Requirement already satisfied: idna<4,>=2.5 in ./env/lib/python3.11/site-packages (from requests->transformers) (3.10)\n",
            "Requirement already satisfied: urllib3<3,>=1.21.1 in ./env/lib/python3.11/site-packages (from requests->transformers) (2.3.0)\n",
            "Requirement already satisfied: certifi>=2017.4.17 in ./env/lib/python3.11/site-packages (from requests->transformers) (2025.1.31)\n",
            "Requirement already satisfied: networkx in ./env/lib/python3.11/site-packages (from torch>=2.0.0->accelerate) (3.4.2)\n",
            "Requirement already satisfied: jinja2 in ./env/lib/python3.11/site-packages (from torch>=2.0.0->accelerate) (3.1.6)\n",
            "Requirement already satisfied: nvidia-cuda-nvrtc-cu12==12.4.127 in ./env/lib/python3.11/site-packages (from torch>=2.0.0->accelerate) (12.4.127)\n",
            "Requirement already satisfied: nvidia-cuda-runtime-cu12==12.4.127 in ./env/lib/python3.11/site-packages (from torch>=2.0.0->accelerate) (12.4.127)\n",
            "Requirement already satisfied: nvidia-cuda-cupti-cu12==12.4.127 in ./env/lib/python3.11/site-packages (from torch>=2.0.0->accelerate) (12.4.127)\n",
            "Requirement already satisfied: nvidia-cudnn-cu12==9.1.0.70 in ./env/lib/python3.11/site-packages (from torch>=2.0.0->accelerate) (9.1.0.70)\n",
            "Requirement already satisfied: nvidia-cublas-cu12==12.4.5.8 in ./env/lib/python3.11/site-packages (from torch>=2.0.0->accelerate) (12.4.5.8)\n",
            "Requirement already satisfied: nvidia-cufft-cu12==11.2.1.3 in ./env/lib/python3.11/site-packages (from torch>=2.0.0->accelerate) (11.2.1.3)\n",
            "Requirement already satisfied: nvidia-curand-cu12==10.3.5.147 in ./env/lib/python3.11/site-packages (from torch>=2.0.0->accelerate) (10.3.5.147)\n",
            "Requirement already satisfied: nvidia-cusolver-cu12==11.6.1.9 in ./env/lib/python3.11/site-packages (from torch>=2.0.0->accelerate) (11.6.1.9)\n",
            "Requirement already satisfied: nvidia-cusparse-cu12==12.3.1.170 in ./env/lib/python3.11/site-packages (from torch>=2.0.0->accelerate) (12.3.1.170)\n",
            "Requirement already satisfied: nvidia-cusparselt-cu12==0.6.2 in ./env/lib/python3.11/site-packages (from torch>=2.0.0->accelerate) (0.6.2)\n",
            "Requirement already satisfied: nvidia-nccl-cu12==2.21.5 in ./env/lib/python3.11/site-packages (from torch>=2.0.0->accelerate) (2.21.5)\n",
            "Requirement already satisfied: nvidia-nvtx-cu12==12.4.127 in ./env/lib/python3.11/site-packages (from torch>=2.0.0->accelerate) (12.4.127)\n",
            "Requirement already satisfied: nvidia-nvjitlink-cu12==12.4.127 in ./env/lib/python3.11/site-packages (from torch>=2.0.0->accelerate) (12.4.127)\n",
            "Requirement already satisfied: triton==3.2.0 in ./env/lib/python3.11/site-packages (from torch>=2.0.0->accelerate) (3.2.0)\n",
            "Requirement already satisfied: sympy==1.13.1 in ./env/lib/python3.11/site-packages (from torch>=2.0.0->accelerate) (1.13.1)\n",
            "Requirement already satisfied: mpmath<1.4,>=1.1.0 in ./env/lib/python3.11/site-packages (from sympy==1.13.1->torch>=2.0.0->accelerate) (1.3.0)\n",
            "Requirement already satisfied: python-dateutil>=2.8.2 in ./env/lib/python3.11/site-packages (from pandas->datasets) (2.9.0.post0)\n",
            "Requirement already satisfied: pytz>=2020.1 in ./env/lib/python3.11/site-packages (from pandas->datasets) (2025.2)\n",
            "Requirement already satisfied: tzdata>=2022.7 in ./env/lib/python3.11/site-packages (from pandas->datasets) (2025.2)\n",
            "Requirement already satisfied: markdown-it-py>=2.2.0 in ./env/lib/python3.11/site-packages (from rich->trl) (3.0.0)\n",
            "Requirement already satisfied: pygments<3.0.0,>=2.13.0 in ./env/lib/python3.11/site-packages (from rich->trl) (2.19.1)\n",
            "Requirement already satisfied: mdurl~=0.1 in ./env/lib/python3.11/site-packages (from markdown-it-py>=2.2.0->rich->trl) (0.1.2)\n",
            "Requirement already satisfied: six>=1.5 in ./env/lib/python3.11/site-packages (from python-dateutil>=2.8.2->pandas->datasets) (1.17.0)\n",
            "Requirement already satisfied: MarkupSafe>=2.0 in ./env/lib/python3.11/site-packages (from jinja2->torch>=2.0.0->accelerate) (3.0.2)\n",
            "\n",
            "\u001b[1m[\u001b[0m\u001b[34;49mnotice\u001b[0m\u001b[1;39;49m]\u001b[0m\u001b[39;49m A new release of pip is available: \u001b[0m\u001b[31;49m23.2.1\u001b[0m\u001b[39;49m -> \u001b[0m\u001b[32;49m25.0.1\u001b[0m\n",
            "\u001b[1m[\u001b[0m\u001b[34;49mnotice\u001b[0m\u001b[1;39;49m]\u001b[0m\u001b[39;49m To update, run: \u001b[0m\u001b[32;49mpip install --upgrade pip\u001b[0m\n",
            "Requirement already satisfied: nvidia-ml-py3 in ./env/lib/python3.11/site-packages (7.352.0)\n",
            "\n",
            "\u001b[1m[\u001b[0m\u001b[34;49mnotice\u001b[0m\u001b[1;39;49m]\u001b[0m\u001b[39;49m A new release of pip is available: \u001b[0m\u001b[31;49m23.2.1\u001b[0m\u001b[39;49m -> \u001b[0m\u001b[32;49m25.0.1\u001b[0m\n",
            "\u001b[1m[\u001b[0m\u001b[34;49mnotice\u001b[0m\u001b[1;39;49m]\u001b[0m\u001b[39;49m To update, run: \u001b[0m\u001b[32;49mpip install --upgrade pip\u001b[0m\n",
            "Requirement already satisfied: scikit-learn in ./env/lib/python3.11/site-packages (1.6.1)\n",
            "Requirement already satisfied: numpy>=1.19.5 in ./env/lib/python3.11/site-packages (from scikit-learn) (2.2.4)\n",
            "Requirement already satisfied: scipy>=1.6.0 in ./env/lib/python3.11/site-packages (from scikit-learn) (1.15.2)\n",
            "Requirement already satisfied: joblib>=1.2.0 in ./env/lib/python3.11/site-packages (from scikit-learn) (1.4.2)\n",
            "Requirement already satisfied: threadpoolctl>=3.1.0 in ./env/lib/python3.11/site-packages (from scikit-learn) (3.6.0)\n",
            "\n",
            "\u001b[1m[\u001b[0m\u001b[34;49mnotice\u001b[0m\u001b[1;39;49m]\u001b[0m\u001b[39;49m A new release of pip is available: \u001b[0m\u001b[31;49m23.2.1\u001b[0m\u001b[39;49m -> \u001b[0m\u001b[32;49m25.0.1\u001b[0m\n",
            "\u001b[1m[\u001b[0m\u001b[34;49mnotice\u001b[0m\u001b[1;39;49m]\u001b[0m\u001b[39;49m To update, run: \u001b[0m\u001b[32;49mpip install --upgrade pip\u001b[0m\n"
          ]
        }
      ],
      "source": [
        "!pip install transformers datasets evaluate accelerate peft trl bitsandbytes\n",
        "!pip install nvidia-ml-py3\n",
        "!pip install scikit-learn"
      ]
    },
    {
      "cell_type": "code",
      "execution_count": 2,
      "id": "cca64f38-d8d2-4313-8295-fbbd43c2a263",
      "metadata": {
        "id": "cca64f38-d8d2-4313-8295-fbbd43c2a263"
      },
      "outputs": [
        {
          "name": "stderr",
          "output_type": "stream",
          "text": [
            "/home/joey/sp25-dl/project2/env/lib/python3.11/site-packages/tqdm/auto.py:21: TqdmWarning: IProgress not found. Please update jupyter and ipywidgets. See https://ipywidgets.readthedocs.io/en/stable/user_install.html\n",
            "  from .autonotebook import tqdm as notebook_tqdm\n"
          ]
        }
      ],
      "source": [
        "import os\n",
        "import pandas as pd\n",
        "import torch\n",
        "from transformers import RobertaModel, RobertaTokenizer, TrainingArguments, Trainer, DataCollatorWithPadding, RobertaForSequenceClassification\n",
        "from peft import LoraConfig, get_peft_model, PeftModel\n",
        "from datasets import load_dataset, Dataset, ClassLabel\n",
        "import pickle"
      ]
    },
    {
      "cell_type": "markdown",
      "id": "59d6e377",
      "metadata": {
        "id": "59d6e377"
      },
      "source": [
        "## Load Tokenizer and Preprocess Data"
      ]
    },
    {
      "cell_type": "code",
      "execution_count": 3,
      "id": "21f42747-f551-40a5-a95f-7affb1eba4a3",
      "metadata": {
        "id": "21f42747-f551-40a5-a95f-7affb1eba4a3"
      },
      "outputs": [],
      "source": [
        "base_model = 'roberta-base'\n",
        "\n",
        "dataset = load_dataset('ag_news', split='train')\n",
        "tokenizer = RobertaTokenizer.from_pretrained(base_model)\n",
        "\n",
        "def preprocess(examples):\n",
        "    tokenized = tokenizer(examples['text'], truncation=True, padding=True)\n",
        "    return tokenized\n",
        "\n",
        "tokenized_dataset = dataset.map(preprocess, batched=True,  remove_columns=[\"text\"])\n",
        "tokenized_dataset = tokenized_dataset.rename_column(\"label\", \"labels\")"
      ]
    },
    {
      "cell_type": "code",
      "execution_count": 4,
      "id": "9e07f641-bec0-43a6-8c26-510d7642916a",
      "metadata": {
        "id": "9e07f641-bec0-43a6-8c26-510d7642916a"
      },
      "outputs": [
        {
          "name": "stdout",
          "output_type": "stream",
          "text": [
            "number of labels: 4\n",
            "the labels: ['World', 'Sports', 'Business', 'Sci/Tech']\n"
          ]
        }
      ],
      "source": [
        "# Extract the number of classess and their names\n",
        "num_labels = dataset.features['label'].num_classes\n",
        "class_names = dataset.features[\"label\"].names\n",
        "print(f\"number of labels: {num_labels}\")\n",
        "print(f\"the labels: {class_names}\")\n",
        "\n",
        "# Create an id2label mapping\n",
        "# We will need this for our classifier.\n",
        "id2label = {i: label for i, label in enumerate(class_names)}\n",
        "\n",
        "data_collator = DataCollatorWithPadding(tokenizer=tokenizer, return_tensors=\"pt\")\n"
      ]
    },
    {
      "cell_type": "markdown",
      "id": "0408894d",
      "metadata": {},
      "source": [
        "## Make train and eval split"
      ]
    },
    {
      "cell_type": "code",
      "execution_count": 5,
      "id": "e7413430-be57-482b-856e-36bd4ba799df",
      "metadata": {
        "id": "e7413430-be57-482b-856e-36bd4ba799df"
      },
      "outputs": [
        {
          "name": "stdout",
          "output_type": "stream",
          "text": [
            "Number of train samples: 118720\n",
            "Number of eval samples: 1280\n"
          ]
        }
      ],
      "source": [
        "# Split the original training set\n",
        "split_datasets = tokenized_dataset.train_test_split(test_size=1280, seed=42)\n",
        "train_dataset = split_datasets['train']\n",
        "eval_dataset = split_datasets['test']\n",
        "\n",
        "print(\"Number of train samples:\", len(train_dataset))\n",
        "print(\"Number of eval samples:\", len(eval_dataset))"
      ]
    },
    {
      "cell_type": "markdown",
      "id": "12284b58",
      "metadata": {
        "id": "12284b58"
      },
      "source": [
        "## Training Setup"
      ]
    },
    {
      "cell_type": "code",
      "execution_count": 6,
      "id": "0ee64c43-fe38-479a-b3c5-7d939a3db4c1",
      "metadata": {
        "id": "0ee64c43-fe38-479a-b3c5-7d939a3db4c1"
      },
      "outputs": [],
      "source": [
        "# To track evaluation accuracy during training\n",
        "from sklearn.metrics import accuracy_score, precision_score, recall_score, f1_score\n",
        "\n",
        "def compute_metrics(pred):\n",
        "    labels = pred.label_ids\n",
        "    preds = pred.predictions.argmax(-1)\n",
        "    # Calculate metrics\n",
        "    accuracy = accuracy_score(labels, preds)\n",
        "    return {\n",
        "        'accuracy': accuracy\n",
        "    }"
      ]
    },
    {
      "cell_type": "code",
      "execution_count": 7,
      "id": "ebbc20a2-a1c0-4cb7-b842-f52e4de61ed5",
      "metadata": {
        "id": "ebbc20a2-a1c0-4cb7-b842-f52e4de61ed5"
      },
      "outputs": [],
      "source": [
        "from torch.utils.data import DataLoader\n",
        "import evaluate\n",
        "from tqdm import tqdm\n",
        "\n",
        "def evaluate_model(inference_model, dataset, labelled=True, batch_size=8, data_collator=None):\n",
        "    \"\"\"\n",
        "    Evaluate a PEFT model on a dataset.\n",
        "\n",
        "    Args:\n",
        "        inference_model: The model to evaluate.\n",
        "        dataset: The dataset (Hugging Face Dataset) to run inference on.\n",
        "        labelled (bool): If True, the dataset includes labels and metrics will be computed.\n",
        "                         If False, only predictions will be returned.\n",
        "        batch_size (int): Batch size for inference.\n",
        "        data_collator: Function to collate batches. If None, the default collate_fn is used.\n",
        "\n",
        "    Returns:\n",
        "        If labelled is True, returns a tuple (metrics, predictions)\n",
        "        If labelled is False, returns the predictions.\n",
        "    \"\"\"\n",
        "    # Create the DataLoader\n",
        "    eval_dataloader = DataLoader(dataset, batch_size=batch_size, collate_fn=data_collator)\n",
        "    device = torch.device(\"cuda\" if torch.cuda.is_available() else \"cpu\")\n",
        "\n",
        "    inference_model.to(device)\n",
        "    inference_model.eval()\n",
        "\n",
        "    all_predictions = []\n",
        "    if labelled:\n",
        "        metric = evaluate.load('accuracy')\n",
        "\n",
        "    # Loop over the DataLoader\n",
        "    for batch in tqdm(eval_dataloader):\n",
        "        # Move each tensor in the batch to the device\n",
        "        batch = {k: v.to(device) for k, v in batch.items()}\n",
        "        with torch.no_grad():\n",
        "            outputs = inference_model(**batch)\n",
        "        predictions = outputs.logits.argmax(dim=-1)\n",
        "        all_predictions.append(predictions.cpu())\n",
        "\n",
        "        if labelled:\n",
        "            # Expecting that labels are provided under the \"labels\" key.\n",
        "            references = batch[\"labels\"]\n",
        "            metric.add_batch(\n",
        "                predictions=predictions.cpu().numpy(),\n",
        "                references=references.cpu().numpy()\n",
        "            )\n",
        "\n",
        "    # Concatenate predictions from all batches\n",
        "    all_predictions = torch.cat(all_predictions, dim=0)\n",
        "\n",
        "    if labelled:\n",
        "        eval_metric = metric.compute()\n",
        "        print(\"Evaluation Metric:\", eval_metric)\n",
        "        return eval_metric, all_predictions\n",
        "    else:\n",
        "        return all_predictions"
      ]
    },
    {
      "cell_type": "markdown",
      "id": "652452e3",
      "metadata": {
        "id": "652452e3"
      },
      "source": [
        "## Design Space Exploration"
      ]
    },
    {
      "cell_type": "markdown",
      "id": "9342bc22",
      "metadata": {},
      "source": [
        "### Config"
      ]
    },
    {
      "cell_type": "code",
      "execution_count": 8,
      "id": "7750e71f",
      "metadata": {},
      "outputs": [],
      "source": [
        "output_base_dir = \"dse_results\" # base directory for all DSE runs\n",
        "os.makedirs(output_base_dir, exist_ok=True)\n",
        "\n",
        "# hyperparameter ranges for DSE\n",
        "learning_rates = [1e-5, 2.5e-5, 5e-5]\n",
        "lora_ranks = [4, 5, 6, 7] \n",
        "lora_alpha_scaling = [2, 3, 4]"
      ]
    },
    {
      "cell_type": "markdown",
      "id": "7113c425",
      "metadata": {},
      "source": [
        "\n",
        "### Design Space Exploration Loop"
      ]
    },
    {
      "cell_type": "code",
      "execution_count": null,
      "id": "bd0ca0ea-86b8-47f7-8cbf-83da25685876",
      "metadata": {
        "id": "bd0ca0ea-86b8-47f7-8cbf-83da25685876"
      },
      "outputs": [
        {
          "name": "stderr",
          "output_type": "stream",
          "text": [
            "Some weights of RobertaForSequenceClassification were not initialized from the model checkpoint at roberta-base and are newly initialized: ['classifier.dense.bias', 'classifier.dense.weight', 'classifier.out_proj.bias', 'classifier.out_proj.weight']\n",
            "You should probably TRAIN this model on a down-stream task to be able to use it for predictions and inference.\n"
          ]
        },
        {
          "name": "stdout",
          "output_type": "stream",
          "text": [
            "\n",
            "--- Starting Run: lr_1e-05_rank_4_alpha_8 ---\n",
            "Loading base model...\n"
          ]
        },
        {
          "name": "stderr",
          "output_type": "stream",
          "text": [
            "No label_names provided for model class `PeftModelForSequenceClassification`. Since `PeftModel` hides base models input arguments, if label_names is not given, label_names can't be set automatically within `Trainer`. Note that empty label_names list will be used instead.\n"
          ]
        },
        {
          "name": "stdout",
          "output_type": "stream",
          "text": [
            "Configuring LoRA with r=4, alpha=8\n",
            "PEFT Model Configured:\n",
            "trainable params: 814,852 || all params: 125,463,560 || trainable%: 0.6495\n",
            "Starting training...\n"
          ]
        },
        {
          "data": {
            "text/html": [
              "\n",
              "    <div>\n",
              "      \n",
              "      <progress value='101' max='1600' style='width:300px; height:20px; vertical-align: middle;'></progress>\n",
              "      [ 101/1600 01:19 < 20:02, 1.25 it/s, Epoch 0.01/1]\n",
              "    </div>\n",
              "    <table border=\"1\" class=\"dataframe\">\n",
              "  <thead>\n",
              " <tr style=\"text-align: left;\">\n",
              "      <th>Step</th>\n",
              "      <th>Training Loss</th>\n",
              "      <th>Validation Loss</th>\n",
              "    </tr>\n",
              "  </thead>\n",
              "  <tbody>\n",
              "  </tbody>\n",
              "</table><p>"
            ],
            "text/plain": [
              "<IPython.core.display.HTML object>"
            ]
          },
          "metadata": {},
          "output_type": "display_data"
        }
      ],
      "source": [
        "import gc # Garbage collector for potentially clearing GPU memory\n",
        "\n",
        "results = []\n",
        "\n",
        "for lr in learning_rates:\n",
        "    for rank in lora_ranks:\n",
        "        for alpha_scale in lora_alpha_scaling:\n",
        "            alpha = rank * alpha_scale\n",
        "            run_name = f\"lr_{lr}_rank_{rank}_alpha_{alpha}\"\n",
        "            print(f\"\\n--- Starting Run: {run_name} ---\")\n",
        "\n",
        "            # Define output directory for this specific run\n",
        "            current_output_dir = os.path.join(output_base_dir, run_name)\n",
        "            os.makedirs(current_output_dir, exist_ok=True)\n",
        "\n",
        "            # 1. Load Base Model (Load fresh for each run)\n",
        "            print(\"Loading base model...\")\n",
        "            \n",
        "            model = RobertaForSequenceClassification.from_pretrained(\n",
        "                base_model,\n",
        "                id2label=id2label)\n",
        "\n",
        "            # Move model to GPU if possible\n",
        "            if torch.cuda.is_available():\n",
        "                model.to('cuda')\n",
        "\n",
        "            # Configure LoRA\n",
        "            print(f\"Configuring LoRA with r={rank}, alpha={alpha}\")\n",
        "            peft_config = LoraConfig(\n",
        "                r=rank,  # LoRA rank\n",
        "                lora_alpha=alpha,  # Alpha parameter for scaling\n",
        "                lora_dropout=0.05, # Dropout probability for LoRA layers\n",
        "                target_modules=[\"query\", \"key\", \"value\"], # Apply LoRA to these layers\n",
        "                bias=\"none\",  # Don't train bias parameters\n",
        "                task_type=\"SEQ_CLS\", # Specify the task type\n",
        "            )\n",
        "\n",
        "            peft_model = get_peft_model(model, peft_config)\n",
        "\n",
        "            print(\"PEFT Model Configured:\")\n",
        "            peft_model.print_trainable_parameters()\n",
        "\n",
        "            training_args = TrainingArguments(\n",
        "                output_dir=current_output_dir,\n",
        "                report_to=None,\n",
        "                eval_strategy=\"steps\",\n",
        "                logging_steps=100,\n",
        "                learning_rate=lr,\n",
        "                max_steps=1600,\n",
        "                num_train_epochs=1,\n",
        "                use_cpu=False,\n",
        "                dataloader_num_workers=4,\n",
        "                per_device_train_batch_size=16,\n",
        "                per_device_eval_batch_size=64, # or 128\n",
        "                optim=\"adamw_torch\",\n",
        "                gradient_checkpointing=False,\n",
        "                gradient_checkpointing_kwargs={'use_reentrant': True},\n",
        "                load_best_model_at_end=True,\n",
        "                metric_for_best_model=\"eval_loss\",\n",
        "                greater_is_better=False\n",
        "            )\n",
        "\n",
        "            trainer = Trainer(\n",
        "                model=peft_model,\n",
        "                args=training_args,\n",
        "                compute_metrics=compute_metrics,\n",
        "                train_dataset=train_dataset,\n",
        "                eval_dataset=eval_dataset,\n",
        "                data_collator=data_collator,\n",
        "            )\n",
        "\n",
        "            # 6. Train the model\n",
        "            print(\"Starting training...\")\n",
        "            try:\n",
        "                train_result = trainer.train()\n",
        "                print(\"Training finished.\")\n",
        "                trainer.save_model() # Optionally save the final model for the best run later\n",
        "\n",
        "                # 7. Evaluate the model after training\n",
        "                print(\"Evaluating model on evaluation set...\")\n",
        "                eval_metrics, _ = evaluate_model(\n",
        "                    peft_model,  # Use the trained model from the trainer\n",
        "                    eval_dataset,\n",
        "                    labelled=True,\n",
        "                    batch_size=training_args.per_device_eval_batch_size,\n",
        "                    data_collator=data_collator\n",
        "                )\n",
        "                final_accuracy = eval_metrics.get('accuracy', float('nan'))\n",
        "\n",
        "            except Exception as e:\n",
        "                print(f\"!!! ERROR during training/evaluation for {run_name}: {e}\")\n",
        "                final_accuracy = float('nan')  # Record failure\n",
        "\n",
        "            # 8. Store results\n",
        "            results.append({\n",
        "                \"learning_rate\": lr,\n",
        "                \"lora_rank\": rank,\n",
        "                \"lora_alpha\": alpha,\n",
        "                \"accuracy\": final_accuracy,\n",
        "                \"output_dir\": current_output_dir\n",
        "            })\n",
        "            print(f\"Run {run_name} completed. Accuracy: {final_accuracy:.4f}\")\n",
        "\n",
        "            # 9. Clean up memory (Important!)\n",
        "            del model\n",
        "            del peft_model\n",
        "            del trainer\n",
        "            gc.collect()\n",
        "            if torch.cuda.is_available():\n",
        "                torch.cuda.empty_cache()"
      ]
    },
    {
      "cell_type": "markdown",
      "id": "3e6ffef8",
      "metadata": {},
      "source": [
        "## Post-DSE Analysis"
      ]
    },
    {
      "cell_type": "code",
      "execution_count": null,
      "id": "19906cb4",
      "metadata": {},
      "outputs": [],
      "source": [
        "import matplotlib.pyplot as plt\n",
        "import seaborn as sns\n",
        "\n",
        "# Convert results to DataFrame for easy viewing/sorting\n",
        "results_df = pd.DataFrame(results)\n",
        "results_df = results_df.sort_values(by=\"accuracy\", ascending=False)\n",
        "\n",
        "print(\"Top 5 Results:\")\n",
        "print(results_df.head())\n",
        "\n",
        "# Save results to CSV\n",
        "results_csv_path = os.path.join(output_base_dir, \"dse_summary.csv\")\n",
        "results_df.to_csv(results_csv_path, index=False)\n",
        "print(f\"\\nFull DSE results saved to: {results_csv_path}\")\n"
      ]
    },
    {
      "cell_type": "code",
      "execution_count": null,
      "id": "a5d1833c",
      "metadata": {},
      "outputs": [],
      "source": [
        "sns.set_theme(style=\"whitegrid\")\n",
        "\n",
        "# Filter out failed runs (where accuracy is NaN) for plotting\n",
        "plot_df = results_df.dropna(subset=['accuracy']).copy()\n",
        "\n",
        "if not plot_df.empty:\n",
        "    # 1. Heatmaps (Accuracy vs Rank/Alpha for each Learning Rate)\n",
        "    print(\"Generating heatmaps...\")\n",
        "    unique_lrs = sorted(plot_df['learning_rate'].unique())\n",
        "    n_lrs = len(unique_lrs)\n",
        "    \n",
        "    # Determine grid size for subplots\n",
        "    ncols = min(3, n_lrs) # Max 3 columns\n",
        "    nrows = (n_lrs + ncols - 1) // ncols\n",
        "    \n",
        "    fig_heatmap, axes_heatmap = plt.subplots(nrows, ncols, figsize=(ncols * 6, nrows * 5), squeeze=False)\n",
        "    axes_heatmap = axes_heatmap.flatten() # Flatten to easily iterate\n",
        "\n",
        "    plot_idx = 0\n",
        "    for i, lr in enumerate(unique_lrs):\n",
        "        ax = axes_heatmap[i]\n",
        "        subset_df = plot_df[plot_df['learning_rate'] == lr]\n",
        "        \n",
        "        if not subset_df.empty:\n",
        "            try:\n",
        "                # Pivot table for heatmap: index=rows, columns=cols, values=color\n",
        "                pivot_table = subset_df.pivot_table(index='lora_alpha', columns='lora_rank', values='accuracy')\n",
        "                \n",
        "                sns.heatmap(pivot_table, annot=True, fmt=\".4f\", cmap=\"viridis\", linewidths=.5, ax=ax, cbar_kws={'label': 'Accuracy'})\n",
        "                ax.set_title(f'Accuracy (LR={lr:.0e})') # Scientific notation for LR\n",
        "                ax.set_xlabel(\"LoRA Rank (r)\")\n",
        "                ax.set_ylabel(\"LoRA Alpha\")\n",
        "                plot_idx += 1\n",
        "            except Exception as e:\n",
        "                print(f\"Could not generate heatmap for LR={lr}: {e}\")\n",
        "                ax.set_title(f'Heatmap Failed (LR={lr:.0e})')\n",
        "                ax.text(0.5, 0.5, 'Plotting Error', horizontalalignment='center', verticalalignment='center', transform=ax.transAxes)\n",
        "\n",
        "    # Hide any unused subplots\n",
        "    for j in range(plot_idx, len(axes_heatmap)):\n",
        "        fig_heatmap.delaxes(axes_heatmap[j])\n",
        "\n",
        "    plt.suptitle('DSE Accuracy: LoRA Rank vs. Alpha (per Learning Rate)', fontsize=16, y=1.02)\n",
        "    plt.tight_layout(rect=[0, 0, 1, 0.98]) # Adjust layout to prevent title overlap\n",
        "\n",
        "    # Save the heatmap figure\n",
        "    heatmap_path = os.path.join(output_base_dir, \"dse_heatmap_accuracy.png\")\n",
        "    try:\n",
        "        plt.savefig(heatmap_path, bbox_inches='tight')\n",
        "        print(f\"Heatmaps saved to: {heatmap_path}\")\n",
        "    except Exception as e:\n",
        "        print(f\"Error saving heatmap: {e}\")\n",
        "    # plt.show() # Uncomment to display plots interactively\n",
        "\n",
        "\n",
        "    # 2. Faceted Line Plots (Accuracy vs Rank, Lines=Alpha, Facets=LR)\n",
        "    print(\"Generating faceted line plots...\")\n",
        "    try:\n",
        "        # Ensure alpha is treated as a category for distinct lines/colors if desired,\n",
        "        # but seaborn usually handles numeric hues well. Convert if colors seem wrong.\n",
        "        # plot_df['lora_alpha_cat'] = plot_df['lora_alpha'].astype(str)\n",
        "\n",
        "        g = sns.relplot(\n",
        "            data=plot_df,\n",
        "            x='lora_rank',\n",
        "            y='accuracy',\n",
        "            hue='lora_alpha',  # Different color lines for each alpha\n",
        "            col='learning_rate', # Separate plots for each learning rate\n",
        "            kind='line',\n",
        "            marker='o', # Add markers to show the discrete points tested\n",
        "            palette='viridis', # Use a nice color palette\n",
        "            col_wrap=min(3, n_lrs), # Wrap columns if many LRs\n",
        "            height=4,\n",
        "            aspect=1.2\n",
        "        )\n",
        "\n",
        "        g.figure.suptitle('DSE Accuracy vs. LoRA Rank (Lines: Alpha, Facets: LR)', fontsize=16, y=1.03)\n",
        "        g.set_axis_labels(\"LoRA Rank (r)\", \"Validation Accuracy\")\n",
        "        g.set_titles(\"LR = {col_name:.0e}\") # Format titles\n",
        "        g.tight_layout(rect=[0, 0, 1, 0.97]) # Adjust layout\n",
        "\n",
        "        # Save the line plot figure\n",
        "        lineplot_path = os.path.join(output_base_dir, \"dse_lineplot_accuracy.png\")\n",
        "        plt.savefig(lineplot_path, bbox_inches='tight')\n",
        "        print(f\"Faceted line plots saved to: {lineplot_path}\")\n",
        "        plt.show() # Uncomment to display plots interactively\n",
        "        plt.close(fig_heatmap) # Close previous figure explicitly if not showing\n",
        "        plt.close(g.figure) # Close the relplot figure\n",
        "\n",
        "    except Exception as e:\n",
        "        print(f\"Could not generate faceted line plot: {e}\")\n",
        "\n",
        "else:\n",
        "    print(\"No valid results (NaN accuracies) found in results_df. Skipping visualization.\")\n"
      ]
    },
    {
      "cell_type": "markdown",
      "id": "75f39087-f2bb-49d3-9fe1-0d812fb30203",
      "metadata": {
        "id": "75f39087-f2bb-49d3-9fe1-0d812fb30203"
      },
      "source": [
        "### Run Inference on unlabelled dataset"
      ]
    },
    {
      "cell_type": "code",
      "execution_count": null,
      "id": "1b33f4a5",
      "metadata": {},
      "outputs": [],
      "source": [
        "# Load best model from DSE"
      ]
    },
    {
      "cell_type": "code",
      "execution_count": null,
      "id": "2af62541-2c33-4f16-bb1c-cc969c715cd7",
      "metadata": {
        "id": "2af62541-2c33-4f16-bb1c-cc969c715cd7"
      },
      "outputs": [
        {
          "name": "stderr",
          "output_type": "stream",
          "text": [
            "Map: 100%|██████████| 8000/8000 [00:02<00:00, 3620.66 examples/s]\n"
          ]
        },
        {
          "data": {
            "text/plain": [
              "Dataset({\n",
              "    features: ['text'],\n",
              "    num_rows: 8000\n",
              "})"
            ]
          },
          "execution_count": 16,
          "metadata": {},
          "output_type": "execute_result"
        }
      ],
      "source": [
        "#Load your unlabelled data\n",
        "unlabelled_dataset = pd.read_pickle(\"test_unlabelled.pkl\")\n",
        "test_dataset = unlabelled_dataset.map(preprocess, batched=True, remove_columns=[\"text\"])\n",
        "unlabelled_dataset"
      ]
    },
    {
      "cell_type": "code",
      "execution_count": null,
      "id": "e60991d3-38b1-4657-8854-408ce66f6b84",
      "metadata": {
        "id": "e60991d3-38b1-4657-8854-408ce66f6b84"
      },
      "outputs": [
        {
          "name": "stderr",
          "output_type": "stream",
          "text": [
            "100%|██████████| 1000/1000 [01:46<00:00,  9.42it/s]"
          ]
        },
        {
          "name": "stdout",
          "output_type": "stream",
          "text": [
            "Inference complete. Predictions saved to inference_output.csv\n"
          ]
        },
        {
          "name": "stderr",
          "output_type": "stream",
          "text": [
            "\n"
          ]
        }
      ],
      "source": [
        "# Run inference and save predictions\n",
        "preds = evaluate_model(peft_model, test_dataset, False, 8, data_collator)\n",
        "df_output = pd.DataFrame({\n",
        "    'ID': range(len(preds)),\n",
        "    'Label': preds.numpy()  # or preds.tolist()\n",
        "})\n",
        "df_output.to_csv(os.path.join(output_dir,\"inference_output.csv\"), index=False)\n",
        "print(\"Inference complete. Predictions saved to inference_output.csv\")"
      ]
    }
  ],
  "metadata": {
    "accelerator": "GPU",
    "colab": {
      "gpuType": "T4",
      "provenance": []
    },
    "kernelspec": {
      "display_name": "env",
      "language": "python",
      "name": "python3"
    },
    "language_info": {
      "codemirror_mode": {
        "name": "ipython",
        "version": 3
      },
      "file_extension": ".py",
      "mimetype": "text/x-python",
      "name": "python",
      "nbconvert_exporter": "python",
      "pygments_lexer": "ipython3",
      "version": "3.11.5"
    }
  },
  "nbformat": 4,
  "nbformat_minor": 5
}
